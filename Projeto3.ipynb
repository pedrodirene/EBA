{
 "cells": [
  {
   "cell_type": "markdown",
   "metadata": {},
   "source": [
    "<!-- Projeto Desenvolvido na Data Science Academy - www.datascienceacademy.com.br -->\n",
    "# <font color='blue'>Data Science Academy</font>\n",
    "# <font color='blue'>Desenvolvimento e Deploy de Modelos de Machine Learning</font>\n",
    "## <font color='blue'>Projeto 3</font>\n",
    "### <font color='blue'>Deploy de Modelo de Machine Learning na Nuvem AWS Para Gestão de Escolas</font>"
   ]
  },
  {
   "cell_type": "markdown",
   "metadata": {},
   "source": [
    "## Pacotes Python Usados no Projeto"
   ]
  },
  {
   "cell_type": "code",
   "execution_count": 1,
   "metadata": {},
   "outputs": [],
   "source": [
    "!pip install -q -U watermark"
   ]
  },
  {
   "cell_type": "code",
   "execution_count": 2,
   "metadata": {
    "ExecuteTime": {
     "end_time": "2021-09-13T07:25:28.577903Z",
     "start_time": "2021-09-13T07:25:28.555748Z"
    }
   },
   "outputs": [],
   "source": [
    "# Imports\n",
    "import sklearn\n",
    "import pickle\n",
    "import numpy as np\n",
    "import pandas as pd\n",
    "from sklearn.model_selection import train_test_split\n",
    "from sklearn.preprocessing import StandardScaler\n",
    "from sklearn.linear_model import LogisticRegression\n",
    "from sklearn.ensemble import RandomForestClassifier\n",
    "from sklearn.svm import SVC\n",
    "from sklearn.metrics import accuracy_score, roc_auc_score, classification_report"
   ]
  },
  {
   "cell_type": "code",
   "execution_count": 3,
   "metadata": {},
   "outputs": [
    {
     "name": "stdout",
     "output_type": "stream",
     "text": [
      "Author: Data Science Academy\n",
      "\n"
     ]
    }
   ],
   "source": [
    "%reload_ext watermark\n",
    "%watermark -a \"Data Science Academy\""
   ]
  },
  {
   "cell_type": "markdown",
   "metadata": {},
   "source": [
    "## Carregando os Dados"
   ]
  },
  {
   "cell_type": "code",
   "execution_count": 4,
   "metadata": {},
   "outputs": [],
   "source": [
    "# Carregando o dataset\n",
    "df_dsa = pd.read_csv('dataset.csv')"
   ]
  },
  {
   "cell_type": "code",
   "execution_count": 5,
   "metadata": {},
   "outputs": [
    {
     "data": {
      "text/plain": [
       "pandas.core.frame.DataFrame"
      ]
     },
     "execution_count": 5,
     "metadata": {},
     "output_type": "execute_result"
    }
   ],
   "source": [
    "# Tipo de objeto\n",
    "type(df_dsa)"
   ]
  },
  {
   "cell_type": "code",
   "execution_count": 6,
   "metadata": {},
   "outputs": [
    {
     "data": {
      "text/plain": [
       "(300, 4)"
      ]
     },
     "execution_count": 6,
     "metadata": {},
     "output_type": "execute_result"
    }
   ],
   "source": [
    "# Shape\n",
    "df_dsa.shape"
   ]
  },
  {
   "cell_type": "code",
   "execution_count": 7,
   "metadata": {},
   "outputs": [
    {
     "name": "stdout",
     "output_type": "stream",
     "text": [
      "<class 'pandas.core.frame.DataFrame'>\n",
      "RangeIndex: 300 entries, 0 to 299\n",
      "Data columns (total 4 columns):\n",
      " #   Column                   Non-Null Count  Dtype  \n",
      "---  ------                   --------------  -----  \n",
      " 0   nota_exame_ingles        300 non-null    float64\n",
      " 1   valor_qi                 300 non-null    int64  \n",
      " 2   nota_exame_psicotecnico  300 non-null    int64  \n",
      " 3   admitido                 300 non-null    int64  \n",
      "dtypes: float64(1), int64(3)\n",
      "memory usage: 9.5 KB\n"
     ]
    }
   ],
   "source": [
    "# Info\n",
    "df_dsa.info()"
   ]
  },
  {
   "cell_type": "code",
   "execution_count": 8,
   "metadata": {},
   "outputs": [
    {
     "data": {
      "text/html": [
       "<div>\n",
       "<style scoped>\n",
       "    .dataframe tbody tr th:only-of-type {\n",
       "        vertical-align: middle;\n",
       "    }\n",
       "\n",
       "    .dataframe tbody tr th {\n",
       "        vertical-align: top;\n",
       "    }\n",
       "\n",
       "    .dataframe thead th {\n",
       "        text-align: right;\n",
       "    }\n",
       "</style>\n",
       "<table border=\"1\" class=\"dataframe\">\n",
       "  <thead>\n",
       "    <tr style=\"text-align: right;\">\n",
       "      <th></th>\n",
       "      <th>nota_exame_ingles</th>\n",
       "      <th>valor_qi</th>\n",
       "      <th>nota_exame_psicotecnico</th>\n",
       "      <th>admitido</th>\n",
       "    </tr>\n",
       "  </thead>\n",
       "  <tbody>\n",
       "    <tr>\n",
       "      <th>0</th>\n",
       "      <td>5.41</td>\n",
       "      <td>115</td>\n",
       "      <td>54</td>\n",
       "      <td>0</td>\n",
       "    </tr>\n",
       "    <tr>\n",
       "      <th>1</th>\n",
       "      <td>7.36</td>\n",
       "      <td>105</td>\n",
       "      <td>77</td>\n",
       "      <td>1</td>\n",
       "    </tr>\n",
       "    <tr>\n",
       "      <th>2</th>\n",
       "      <td>7.76</td>\n",
       "      <td>96</td>\n",
       "      <td>62</td>\n",
       "      <td>1</td>\n",
       "    </tr>\n",
       "    <tr>\n",
       "      <th>3</th>\n",
       "      <td>5.51</td>\n",
       "      <td>112</td>\n",
       "      <td>51</td>\n",
       "      <td>0</td>\n",
       "    </tr>\n",
       "    <tr>\n",
       "      <th>4</th>\n",
       "      <td>7.19</td>\n",
       "      <td>97</td>\n",
       "      <td>47</td>\n",
       "      <td>1</td>\n",
       "    </tr>\n",
       "  </tbody>\n",
       "</table>\n",
       "</div>"
      ],
      "text/plain": [
       "   nota_exame_ingles  valor_qi  nota_exame_psicotecnico  admitido\n",
       "0               5.41       115                       54         0\n",
       "1               7.36       105                       77         1\n",
       "2               7.76        96                       62         1\n",
       "3               5.51       112                       51         0\n",
       "4               7.19        97                       47         1"
      ]
     },
     "execution_count": 8,
     "metadata": {},
     "output_type": "execute_result"
    }
   ],
   "source": [
    "# Amostra dos dados\n",
    "df_dsa.head()"
   ]
  },
  {
   "cell_type": "markdown",
   "metadata": {},
   "source": [
    "## Pré-Processamento"
   ]
  },
  {
   "cell_type": "code",
   "execution_count": 9,
   "metadata": {},
   "outputs": [],
   "source": [
    "# Separamos X e y\n",
    "X = df_dsa.drop(columns=['admitido'])\n",
    "y = df_dsa['admitido']"
   ]
  },
  {
   "cell_type": "code",
   "execution_count": 10,
   "metadata": {},
   "outputs": [],
   "source": [
    "# Dividmos os dados em treino e teste\n",
    "X_treino, X_teste, y_treino, y_teste = train_test_split(X, y, test_size = 0.2, random_state = 2)"
   ]
  },
  {
   "cell_type": "code",
   "execution_count": 11,
   "metadata": {},
   "outputs": [],
   "source": [
    "# Cria o padronizador\n",
    "dsa_scaler = StandardScaler()"
   ]
  },
  {
   "cell_type": "code",
   "execution_count": 12,
   "metadata": {},
   "outputs": [],
   "source": [
    "# Fazemos fit e transform somente em treino\n",
    "X_treino_scaled = dsa_scaler.fit_transform(X_treino)"
   ]
  },
  {
   "cell_type": "code",
   "execution_count": 13,
   "metadata": {},
   "outputs": [],
   "source": [
    "# Fazemos transform em teste\n",
    "X_teste_scaled = dsa_scaler.transform(X_teste)"
   ]
  },
  {
   "cell_type": "markdown",
   "metadata": {},
   "source": [
    "<!-- Projeto Desenvolvido na Data Science Academy - www.datascienceacademy.com.br -->\n",
    "## Versão 1 do Modelo com Regressão Logística\n",
    "\n",
    "A Regressão Logística é um algoritmo de aprendizado de máquina usado para prever a probabilidade de uma variável dependente categórica. Embora o nome sugira regressão, é mais comumente usado em problemas de classificação binária, onde o objetivo é prever uma das duas classes possíveis (como \"sim\" ou \"não\", \"1\" ou \"0\", \"positivo\" ou \"negativo\"). O algoritmo modela a probabilidade de que uma determinada entrada pertença a uma categoria específica.\n",
    "\n",
    "O funcionamento da Regressão Logística é baseado no conceito de função logística, também conhecida como função sigmoide. Essa função tem uma curva em forma de \"S\", que pode mapear qualquer número real para um valor entre 0 e 1, tornando-a adequada para estimar probabilidades. O modelo calcula a probabilidade de a entrada pertencer a uma classe específica e se essa probabilidade for maior que um limiar definido (geralmente 0,5), a entrada é classificada naquela classe. A função logística transforma a saída linear (uma combinação linear de variáveis independentes ponderadas por coeficientes, mais um termo de interceptação) em uma probabilidade.\n",
    "\n",
    "Em termos de treinamento, a Regressão Logística envolve o ajuste dos coeficientes das variáveis independentes. Isso é feito através da maximização da função de verossimilhança, que busca encontrar os coeficientes que tornam as probabilidades previstas mais próximas dos resultados observados (reais). Essencialmente, o algoritmo tenta traçar uma linha de decisão que melhor separa as classes. Para avaliar a performance do modelo, são usadas métricas como a acurácia, a matriz de confusão, o AUC-ROC (Área sob a Curva - Característica de Operação do Receptor) e outras. "
   ]
  },
  {
   "cell_type": "markdown",
   "metadata": {},
   "source": [
    "https://scikit-learn.org/stable/modules/generated/sklearn.linear_model.LogisticRegression.html"
   ]
  },
  {
   "cell_type": "code",
   "execution_count": 14,
   "metadata": {},
   "outputs": [],
   "source": [
    "# Cria o modelo\n",
    "modelo_dsa_v1 = LogisticRegression()"
   ]
  },
  {
   "cell_type": "code",
   "execution_count": 15,
   "metadata": {},
   "outputs": [
    {
     "data": {
      "text/html": [
       "<style>#sk-container-id-1 {color: black;}#sk-container-id-1 pre{padding: 0;}#sk-container-id-1 div.sk-toggleable {background-color: white;}#sk-container-id-1 label.sk-toggleable__label {cursor: pointer;display: block;width: 100%;margin-bottom: 0;padding: 0.3em;box-sizing: border-box;text-align: center;}#sk-container-id-1 label.sk-toggleable__label-arrow:before {content: \"▸\";float: left;margin-right: 0.25em;color: #696969;}#sk-container-id-1 label.sk-toggleable__label-arrow:hover:before {color: black;}#sk-container-id-1 div.sk-estimator:hover label.sk-toggleable__label-arrow:before {color: black;}#sk-container-id-1 div.sk-toggleable__content {max-height: 0;max-width: 0;overflow: hidden;text-align: left;background-color: #f0f8ff;}#sk-container-id-1 div.sk-toggleable__content pre {margin: 0.2em;color: black;border-radius: 0.25em;background-color: #f0f8ff;}#sk-container-id-1 input.sk-toggleable__control:checked~div.sk-toggleable__content {max-height: 200px;max-width: 100%;overflow: auto;}#sk-container-id-1 input.sk-toggleable__control:checked~label.sk-toggleable__label-arrow:before {content: \"▾\";}#sk-container-id-1 div.sk-estimator input.sk-toggleable__control:checked~label.sk-toggleable__label {background-color: #d4ebff;}#sk-container-id-1 div.sk-label input.sk-toggleable__control:checked~label.sk-toggleable__label {background-color: #d4ebff;}#sk-container-id-1 input.sk-hidden--visually {border: 0;clip: rect(1px 1px 1px 1px);clip: rect(1px, 1px, 1px, 1px);height: 1px;margin: -1px;overflow: hidden;padding: 0;position: absolute;width: 1px;}#sk-container-id-1 div.sk-estimator {font-family: monospace;background-color: #f0f8ff;border: 1px dotted black;border-radius: 0.25em;box-sizing: border-box;margin-bottom: 0.5em;}#sk-container-id-1 div.sk-estimator:hover {background-color: #d4ebff;}#sk-container-id-1 div.sk-parallel-item::after {content: \"\";width: 100%;border-bottom: 1px solid gray;flex-grow: 1;}#sk-container-id-1 div.sk-label:hover label.sk-toggleable__label {background-color: #d4ebff;}#sk-container-id-1 div.sk-serial::before {content: \"\";position: absolute;border-left: 1px solid gray;box-sizing: border-box;top: 0;bottom: 0;left: 50%;z-index: 0;}#sk-container-id-1 div.sk-serial {display: flex;flex-direction: column;align-items: center;background-color: white;padding-right: 0.2em;padding-left: 0.2em;position: relative;}#sk-container-id-1 div.sk-item {position: relative;z-index: 1;}#sk-container-id-1 div.sk-parallel {display: flex;align-items: stretch;justify-content: center;background-color: white;position: relative;}#sk-container-id-1 div.sk-item::before, #sk-container-id-1 div.sk-parallel-item::before {content: \"\";position: absolute;border-left: 1px solid gray;box-sizing: border-box;top: 0;bottom: 0;left: 50%;z-index: -1;}#sk-container-id-1 div.sk-parallel-item {display: flex;flex-direction: column;z-index: 1;position: relative;background-color: white;}#sk-container-id-1 div.sk-parallel-item:first-child::after {align-self: flex-end;width: 50%;}#sk-container-id-1 div.sk-parallel-item:last-child::after {align-self: flex-start;width: 50%;}#sk-container-id-1 div.sk-parallel-item:only-child::after {width: 0;}#sk-container-id-1 div.sk-dashed-wrapped {border: 1px dashed gray;margin: 0 0.4em 0.5em 0.4em;box-sizing: border-box;padding-bottom: 0.4em;background-color: white;}#sk-container-id-1 div.sk-label label {font-family: monospace;font-weight: bold;display: inline-block;line-height: 1.2em;}#sk-container-id-1 div.sk-label-container {text-align: center;}#sk-container-id-1 div.sk-container {/* jupyter's `normalize.less` sets `[hidden] { display: none; }` but bootstrap.min.css set `[hidden] { display: none !important; }` so we also need the `!important` here to be able to override the default hidden behavior on the sphinx rendered scikit-learn.org. See: https://github.com/scikit-learn/scikit-learn/issues/21755 */display: inline-block !important;position: relative;}#sk-container-id-1 div.sk-text-repr-fallback {display: none;}</style><div id=\"sk-container-id-1\" class=\"sk-top-container\"><div class=\"sk-text-repr-fallback\"><pre>LogisticRegression()</pre><b>In a Jupyter environment, please rerun this cell to show the HTML representation or trust the notebook. <br />On GitHub, the HTML representation is unable to render, please try loading this page with nbviewer.org.</b></div><div class=\"sk-container\" hidden><div class=\"sk-item\"><div class=\"sk-estimator sk-toggleable\"><input class=\"sk-toggleable__control sk-hidden--visually\" id=\"sk-estimator-id-1\" type=\"checkbox\" checked><label for=\"sk-estimator-id-1\" class=\"sk-toggleable__label sk-toggleable__label-arrow\">LogisticRegression</label><div class=\"sk-toggleable__content\"><pre>LogisticRegression()</pre></div></div></div></div></div>"
      ],
      "text/plain": [
       "LogisticRegression()"
      ]
     },
     "execution_count": 15,
     "metadata": {},
     "output_type": "execute_result"
    }
   ],
   "source": [
    "# Treina o modelo\n",
    "modelo_dsa_v1.fit(X_treino_scaled, y_treino)"
   ]
  },
  {
   "cell_type": "code",
   "execution_count": 16,
   "metadata": {},
   "outputs": [
    {
     "data": {
      "text/plain": [
       "array([1, 0, 1, 1, 1, 1, 0, 1, 1, 0, 1, 0, 1, 1, 1, 1, 1, 0, 1, 1, 0, 0,\n",
       "       1, 0, 1, 0, 1, 1, 0, 1, 1, 1, 1, 0, 0, 1, 1, 0, 1, 0, 0, 1, 0, 0,\n",
       "       0, 1, 1, 0, 1, 1, 0, 0, 0, 0, 0, 0, 0, 0, 0, 1], dtype=int64)"
      ]
     },
     "execution_count": 16,
     "metadata": {},
     "output_type": "execute_result"
    }
   ],
   "source": [
    "# Obtém a previsão de classe\n",
    "y_pred_v1 = modelo_dsa_v1.predict(X_teste_scaled)\n",
    "y_pred_v1"
   ]
  },
  {
   "cell_type": "code",
   "execution_count": 17,
   "metadata": {},
   "outputs": [
    {
     "data": {
      "text/plain": [
       "array([0.98022782, 0.00853758, 0.99728018, 0.92060719, 0.98892818,\n",
       "       0.91209264, 0.28416158, 0.98112584, 0.994874  , 0.09503492,\n",
       "       0.95299449, 0.29556171, 0.98998317, 0.92906866, 0.99198539,\n",
       "       0.87820868, 0.97886576, 0.29048839, 0.81421244, 0.82474907,\n",
       "       0.02983432, 0.02217034, 0.95288716, 0.29612132, 0.52262812,\n",
       "       0.05732346, 0.99835783, 0.73443083, 0.24605156, 0.75985974,\n",
       "       0.92472025, 0.94307055, 0.87640117, 0.05571551, 0.00289766,\n",
       "       0.96973285, 0.96381592, 0.21160734, 0.9922066 , 0.04271532,\n",
       "       0.13577308, 0.94727191, 0.20214398, 0.12629434, 0.17176687,\n",
       "       0.95695546, 0.93632496, 0.10081499, 0.88607713, 0.99830271,\n",
       "       0.08631244, 0.08880899, 0.06172264, 0.12501502, 0.00634014,\n",
       "       0.23687371, 0.18384315, 0.03732839, 0.02151441, 0.99482193])"
      ]
     },
     "execution_count": 17,
     "metadata": {},
     "output_type": "execute_result"
    }
   ],
   "source": [
    "# Obtém as probabilidades das previsões\n",
    "y_pred_proba_v1 = modelo_dsa_v1.predict_proba(X_teste_scaled)[:, 1]\n",
    "y_pred_proba_v1"
   ]
  },
  {
   "cell_type": "code",
   "execution_count": 18,
   "metadata": {},
   "outputs": [
    {
     "name": "stdout",
     "output_type": "stream",
     "text": [
      "\n",
      "Acurácia: 0.9\n",
      "\n",
      "AUC: 0.98\n",
      "\n",
      "Relatório de Classificação:\n",
      "               precision    recall  f1-score   support\n",
      "\n",
      "           0       0.93      0.87      0.90        30\n",
      "           1       0.88      0.93      0.90        30\n",
      "\n",
      "    accuracy                           0.90        60\n",
      "   macro avg       0.90      0.90      0.90        60\n",
      "weighted avg       0.90      0.90      0.90        60\n",
      "\n"
     ]
    }
   ],
   "source": [
    "# Calcula a acurácia\n",
    "acc_v1 = accuracy_score(y_teste, y_pred_v1)\n",
    "print(f\"\\nAcurácia: {acc_v1}\")\n",
    "\n",
    "# Calcula o AUC\n",
    "auc_v1 = roc_auc_score(y_teste, y_pred_proba_v1)\n",
    "print(f\"\\nAUC: {auc_v1}\")\n",
    "\n",
    "# Gera o relatório de classificação\n",
    "class_report_v1 = classification_report(y_teste, y_pred_v1)\n",
    "print(\"\\nRelatório de Classificação:\\n\", class_report_v1)"
   ]
  },
  {
   "cell_type": "markdown",
   "metadata": {},
   "source": [
    "<!-- Projeto Desenvolvido na Data Science Academy - www.datascienceacademy.com.br -->\n",
    "## Versão 2 do Modelo com RandomForest\n",
    "\n",
    "O algoritmo RandomForest, parte da família dos métodos de ensemble (conjunto), é um dos algoritmos de aprendizado de máquina mais populares e versáteis, usado tanto para tarefas de classificação quanto de regressão. Sua principal característica é a construção de um conjunto de árvores de decisão durante o treinamento e a saída do modelo é determinada pela média das previsões de todas as árvores no caso de regressão, ou pela votação majoritária no caso de classificação. O nome \"RandomForest\" deriva da maneira como o algoritmo cria uma \"floresta\" de árvores de decisão aleatórias durante o treinamento.\n",
    "\n",
    "Cada árvore na floresta aleatória é construída a partir de uma amostra aleatória dos dados de treinamento (com substituição), conhecida como bootstrapping, o que confere ao modelo a propriedade de ser um \"ensemble bagging\". Além disso, em cada divisão de uma árvore, um subconjunto aleatório de características é selecionado para consideração, aumentando a diversidade entre as árvores e tornando o modelo mais robusto contra o overfitting. Essa aleatoriedade ajuda a melhorar a precisão do modelo e reduzir a variância, fornecendo uma solução eficaz para lidar com datasets grandes e complexos. As árvores individuais tendem a aprender e se adaptar excessivamente aos dados de treinamento (overfitting), mas quando combinadas em uma floresta aleatória, os erros de uma árvore são compensados pelos acertos das outras, resultando em um desempenho geral melhorado.\n",
    "\n",
    "O RandomForest é amplamente apreciado por sua facilidade de uso, pois requer pouca configuração de hiperparâmetros e geralmente produz bons resultados com as configurações padrão. É também menos propenso ao overfitting do que uma única árvore de decisão. Além disso, oferece uma boa interpretabilidade através da importância das características, que mede o quanto cada característica contribui para a precisão da previsão do modelo. No entanto, apesar de suas muitas vantagens, pode ser computacionalmente intensivo e menos eficiente em termos de tempo e memória, especialmente com um número muito grande de árvores ou um dataset muito grande. "
   ]
  },
  {
   "cell_type": "markdown",
   "metadata": {},
   "source": [
    "https://scikit-learn.org/stable/modules/generated/sklearn.ensemble.RandomForestClassifier.html"
   ]
  },
  {
   "cell_type": "code",
   "execution_count": 19,
   "metadata": {},
   "outputs": [],
   "source": [
    "# Cria o modelo\n",
    "modelo_dsa_v2 = RandomForestClassifier()"
   ]
  },
  {
   "cell_type": "code",
   "execution_count": 20,
   "metadata": {},
   "outputs": [
    {
     "data": {
      "text/html": [
       "<style>#sk-container-id-2 {color: black;}#sk-container-id-2 pre{padding: 0;}#sk-container-id-2 div.sk-toggleable {background-color: white;}#sk-container-id-2 label.sk-toggleable__label {cursor: pointer;display: block;width: 100%;margin-bottom: 0;padding: 0.3em;box-sizing: border-box;text-align: center;}#sk-container-id-2 label.sk-toggleable__label-arrow:before {content: \"▸\";float: left;margin-right: 0.25em;color: #696969;}#sk-container-id-2 label.sk-toggleable__label-arrow:hover:before {color: black;}#sk-container-id-2 div.sk-estimator:hover label.sk-toggleable__label-arrow:before {color: black;}#sk-container-id-2 div.sk-toggleable__content {max-height: 0;max-width: 0;overflow: hidden;text-align: left;background-color: #f0f8ff;}#sk-container-id-2 div.sk-toggleable__content pre {margin: 0.2em;color: black;border-radius: 0.25em;background-color: #f0f8ff;}#sk-container-id-2 input.sk-toggleable__control:checked~div.sk-toggleable__content {max-height: 200px;max-width: 100%;overflow: auto;}#sk-container-id-2 input.sk-toggleable__control:checked~label.sk-toggleable__label-arrow:before {content: \"▾\";}#sk-container-id-2 div.sk-estimator input.sk-toggleable__control:checked~label.sk-toggleable__label {background-color: #d4ebff;}#sk-container-id-2 div.sk-label input.sk-toggleable__control:checked~label.sk-toggleable__label {background-color: #d4ebff;}#sk-container-id-2 input.sk-hidden--visually {border: 0;clip: rect(1px 1px 1px 1px);clip: rect(1px, 1px, 1px, 1px);height: 1px;margin: -1px;overflow: hidden;padding: 0;position: absolute;width: 1px;}#sk-container-id-2 div.sk-estimator {font-family: monospace;background-color: #f0f8ff;border: 1px dotted black;border-radius: 0.25em;box-sizing: border-box;margin-bottom: 0.5em;}#sk-container-id-2 div.sk-estimator:hover {background-color: #d4ebff;}#sk-container-id-2 div.sk-parallel-item::after {content: \"\";width: 100%;border-bottom: 1px solid gray;flex-grow: 1;}#sk-container-id-2 div.sk-label:hover label.sk-toggleable__label {background-color: #d4ebff;}#sk-container-id-2 div.sk-serial::before {content: \"\";position: absolute;border-left: 1px solid gray;box-sizing: border-box;top: 0;bottom: 0;left: 50%;z-index: 0;}#sk-container-id-2 div.sk-serial {display: flex;flex-direction: column;align-items: center;background-color: white;padding-right: 0.2em;padding-left: 0.2em;position: relative;}#sk-container-id-2 div.sk-item {position: relative;z-index: 1;}#sk-container-id-2 div.sk-parallel {display: flex;align-items: stretch;justify-content: center;background-color: white;position: relative;}#sk-container-id-2 div.sk-item::before, #sk-container-id-2 div.sk-parallel-item::before {content: \"\";position: absolute;border-left: 1px solid gray;box-sizing: border-box;top: 0;bottom: 0;left: 50%;z-index: -1;}#sk-container-id-2 div.sk-parallel-item {display: flex;flex-direction: column;z-index: 1;position: relative;background-color: white;}#sk-container-id-2 div.sk-parallel-item:first-child::after {align-self: flex-end;width: 50%;}#sk-container-id-2 div.sk-parallel-item:last-child::after {align-self: flex-start;width: 50%;}#sk-container-id-2 div.sk-parallel-item:only-child::after {width: 0;}#sk-container-id-2 div.sk-dashed-wrapped {border: 1px dashed gray;margin: 0 0.4em 0.5em 0.4em;box-sizing: border-box;padding-bottom: 0.4em;background-color: white;}#sk-container-id-2 div.sk-label label {font-family: monospace;font-weight: bold;display: inline-block;line-height: 1.2em;}#sk-container-id-2 div.sk-label-container {text-align: center;}#sk-container-id-2 div.sk-container {/* jupyter's `normalize.less` sets `[hidden] { display: none; }` but bootstrap.min.css set `[hidden] { display: none !important; }` so we also need the `!important` here to be able to override the default hidden behavior on the sphinx rendered scikit-learn.org. See: https://github.com/scikit-learn/scikit-learn/issues/21755 */display: inline-block !important;position: relative;}#sk-container-id-2 div.sk-text-repr-fallback {display: none;}</style><div id=\"sk-container-id-2\" class=\"sk-top-container\"><div class=\"sk-text-repr-fallback\"><pre>RandomForestClassifier()</pre><b>In a Jupyter environment, please rerun this cell to show the HTML representation or trust the notebook. <br />On GitHub, the HTML representation is unable to render, please try loading this page with nbviewer.org.</b></div><div class=\"sk-container\" hidden><div class=\"sk-item\"><div class=\"sk-estimator sk-toggleable\"><input class=\"sk-toggleable__control sk-hidden--visually\" id=\"sk-estimator-id-2\" type=\"checkbox\" checked><label for=\"sk-estimator-id-2\" class=\"sk-toggleable__label sk-toggleable__label-arrow\">RandomForestClassifier</label><div class=\"sk-toggleable__content\"><pre>RandomForestClassifier()</pre></div></div></div></div></div>"
      ],
      "text/plain": [
       "RandomForestClassifier()"
      ]
     },
     "execution_count": 20,
     "metadata": {},
     "output_type": "execute_result"
    }
   ],
   "source": [
    "# Treinamento do modelo\n",
    "modelo_dsa_v2.fit(X_treino_scaled, y_treino)"
   ]
  },
  {
   "cell_type": "code",
   "execution_count": 21,
   "metadata": {},
   "outputs": [
    {
     "data": {
      "text/plain": [
       "array([1, 0, 1, 1, 1, 1, 0, 1, 1, 0, 1, 0, 1, 1, 1, 1, 1, 0, 1, 1, 0, 0,\n",
       "       1, 0, 1, 0, 1, 0, 0, 1, 1, 1, 1, 0, 0, 1, 0, 0, 1, 0, 0, 1, 0, 0,\n",
       "       0, 1, 1, 0, 1, 1, 0, 0, 0, 0, 0, 0, 0, 0, 0, 1], dtype=int64)"
      ]
     },
     "execution_count": 21,
     "metadata": {},
     "output_type": "execute_result"
    }
   ],
   "source": [
    "# Obtém a previsão de classe\n",
    "y_pred_v2 = modelo_dsa_v2.predict(X_teste_scaled)\n",
    "y_pred_v2"
   ]
  },
  {
   "cell_type": "code",
   "execution_count": 22,
   "metadata": {},
   "outputs": [
    {
     "data": {
      "text/plain": [
       "array([1.  , 0.  , 0.99, 0.73, 1.  , 0.96, 0.16, 0.99, 1.  , 0.11, 1.  ,\n",
       "       0.35, 0.94, 0.58, 1.  , 0.97, 0.96, 0.2 , 0.93, 0.87, 0.  , 0.  ,\n",
       "       0.97, 0.31, 0.74, 0.07, 1.  , 0.26, 0.03, 0.55, 1.  , 0.99, 0.98,\n",
       "       0.01, 0.02, 0.85, 0.45, 0.1 , 0.99, 0.07, 0.09, 0.57, 0.05, 0.09,\n",
       "       0.07, 0.98, 0.94, 0.04, 1.  , 0.93, 0.06, 0.09, 0.05, 0.01, 0.07,\n",
       "       0.32, 0.05, 0.01, 0.09, 1.  ])"
      ]
     },
     "execution_count": 22,
     "metadata": {},
     "output_type": "execute_result"
    }
   ],
   "source": [
    "# Obtém as probabilidades das previsões\n",
    "y_pred_proba_v2 = modelo_dsa_v2.predict_proba(X_teste_scaled)[:, 1]\n",
    "y_pred_proba_v2"
   ]
  },
  {
   "cell_type": "code",
   "execution_count": 23,
   "metadata": {},
   "outputs": [
    {
     "name": "stdout",
     "output_type": "stream",
     "text": [
      "\n",
      "Acurácia: 0.9\n",
      "\n",
      "AUC: 0.9527777777777778\n",
      "\n",
      "Relatório de Classificação:\n",
      "               precision    recall  f1-score   support\n",
      "\n",
      "           0       0.90      0.90      0.90        30\n",
      "           1       0.90      0.90      0.90        30\n",
      "\n",
      "    accuracy                           0.90        60\n",
      "   macro avg       0.90      0.90      0.90        60\n",
      "weighted avg       0.90      0.90      0.90        60\n",
      "\n"
     ]
    }
   ],
   "source": [
    "# Calcula a acurácia\n",
    "acc_v2 = accuracy_score(y_teste, y_pred_v2)\n",
    "print(f\"\\nAcurácia: {acc_v2}\")\n",
    "\n",
    "# Calcula o AUC\n",
    "auc_v2 = roc_auc_score(y_teste, y_pred_proba_v2)\n",
    "print(f\"\\nAUC: {auc_v2}\")\n",
    "\n",
    "# Gera o relatório de classificação\n",
    "class_report_v2 = classification_report(y_teste, y_pred_v2)\n",
    "print(\"\\nRelatório de Classificação:\\n\", class_report_v2)"
   ]
  },
  {
   "cell_type": "markdown",
   "metadata": {},
   "source": [
    "<!-- Projeto Desenvolvido na Data Science Academy - www.datascienceacademy.com.br -->\n",
    "## Versão 3 do Modelo com Support Vector Machines (SVM)\n",
    "\n",
    "Support Vector Machines (SVM) é um algoritmo de aprendizado de máquina poderoso e versátil, usado principalmente para tarefas de classificação, mas também aplicável em regressão. Em sua forma mais simples e mais comumente usada, o SVM é empregado para classificação binária. \n",
    "\n",
    "O objetivo principal do SVM é encontrar um hiperplano em um espaço N-dimensional (N sendo o número de características) que classifica distintamente os pontos de dados em duas categorias. Este hiperplano é escolhido de modo a ter a maior distância possível dos pontos de dados mais próximos de cada classe, conhecidos como vetores de suporte. Esta abordagem ajuda a maximizar a margem entre as classes, contribuindo para um modelo mais robusto e com melhor capacidade de generalização.\n",
    "\n",
    "Uma das principais forças do SVM é sua capacidade de trabalhar eficientemente em espaços de alta dimensão e com margens claras de separação entre as classes. No entanto, quando os dados não são linearmente separáveis, o SVM utiliza uma técnica chamada \"kernel trick\". Essa técnica transforma os dados em um espaço de maior dimensão onde é possível realizar a separação linear. Os kernels mais comuns são o polinomial, o radial basis function (RBF) e o sigmoide. Essa abordagem torna o SVM particularmente eficaz em casos complexos, onde a relação entre as características e as classes não é imediatamente aparente.\n",
    "\n",
    "Apesar de suas vantagens, o SVM pode ser desafiador em termos de escolha e ajuste dos parâmetros corretos, como o tipo de kernel e os parâmetros do kernel, que têm um impacto significativo no desempenho do modelo. Além disso, o SVM tende a ser menos eficiente em termos de memória e computacionalmente mais intensivo, especialmente com grandes conjuntos de dados. Também pode ser menos eficaz em situações com um número elevado de características em relação ao número de amostras ou em casos de classes muito desbalanceadas. Apesar desses desafios, sua eficácia em separar classes complexas o torna uma escolha popular para problemas de classificação em diversos campos."
   ]
  },
  {
   "cell_type": "markdown",
   "metadata": {},
   "source": [
    "https://scikit-learn.org/stable/modules/generated/sklearn.svm.SVC.html"
   ]
  },
  {
   "cell_type": "code",
   "execution_count": 24,
   "metadata": {},
   "outputs": [],
   "source": [
    "# Cria o modelo\n",
    "modelo_dsa_v3 = SVC(verbose=True, probability=True)"
   ]
  },
  {
   "cell_type": "code",
   "execution_count": 25,
   "metadata": {},
   "outputs": [
    {
     "name": "stdout",
     "output_type": "stream",
     "text": [
      "[LibSVM]"
     ]
    },
    {
     "data": {
      "text/html": [
       "<style>#sk-container-id-3 {color: black;}#sk-container-id-3 pre{padding: 0;}#sk-container-id-3 div.sk-toggleable {background-color: white;}#sk-container-id-3 label.sk-toggleable__label {cursor: pointer;display: block;width: 100%;margin-bottom: 0;padding: 0.3em;box-sizing: border-box;text-align: center;}#sk-container-id-3 label.sk-toggleable__label-arrow:before {content: \"▸\";float: left;margin-right: 0.25em;color: #696969;}#sk-container-id-3 label.sk-toggleable__label-arrow:hover:before {color: black;}#sk-container-id-3 div.sk-estimator:hover label.sk-toggleable__label-arrow:before {color: black;}#sk-container-id-3 div.sk-toggleable__content {max-height: 0;max-width: 0;overflow: hidden;text-align: left;background-color: #f0f8ff;}#sk-container-id-3 div.sk-toggleable__content pre {margin: 0.2em;color: black;border-radius: 0.25em;background-color: #f0f8ff;}#sk-container-id-3 input.sk-toggleable__control:checked~div.sk-toggleable__content {max-height: 200px;max-width: 100%;overflow: auto;}#sk-container-id-3 input.sk-toggleable__control:checked~label.sk-toggleable__label-arrow:before {content: \"▾\";}#sk-container-id-3 div.sk-estimator input.sk-toggleable__control:checked~label.sk-toggleable__label {background-color: #d4ebff;}#sk-container-id-3 div.sk-label input.sk-toggleable__control:checked~label.sk-toggleable__label {background-color: #d4ebff;}#sk-container-id-3 input.sk-hidden--visually {border: 0;clip: rect(1px 1px 1px 1px);clip: rect(1px, 1px, 1px, 1px);height: 1px;margin: -1px;overflow: hidden;padding: 0;position: absolute;width: 1px;}#sk-container-id-3 div.sk-estimator {font-family: monospace;background-color: #f0f8ff;border: 1px dotted black;border-radius: 0.25em;box-sizing: border-box;margin-bottom: 0.5em;}#sk-container-id-3 div.sk-estimator:hover {background-color: #d4ebff;}#sk-container-id-3 div.sk-parallel-item::after {content: \"\";width: 100%;border-bottom: 1px solid gray;flex-grow: 1;}#sk-container-id-3 div.sk-label:hover label.sk-toggleable__label {background-color: #d4ebff;}#sk-container-id-3 div.sk-serial::before {content: \"\";position: absolute;border-left: 1px solid gray;box-sizing: border-box;top: 0;bottom: 0;left: 50%;z-index: 0;}#sk-container-id-3 div.sk-serial {display: flex;flex-direction: column;align-items: center;background-color: white;padding-right: 0.2em;padding-left: 0.2em;position: relative;}#sk-container-id-3 div.sk-item {position: relative;z-index: 1;}#sk-container-id-3 div.sk-parallel {display: flex;align-items: stretch;justify-content: center;background-color: white;position: relative;}#sk-container-id-3 div.sk-item::before, #sk-container-id-3 div.sk-parallel-item::before {content: \"\";position: absolute;border-left: 1px solid gray;box-sizing: border-box;top: 0;bottom: 0;left: 50%;z-index: -1;}#sk-container-id-3 div.sk-parallel-item {display: flex;flex-direction: column;z-index: 1;position: relative;background-color: white;}#sk-container-id-3 div.sk-parallel-item:first-child::after {align-self: flex-end;width: 50%;}#sk-container-id-3 div.sk-parallel-item:last-child::after {align-self: flex-start;width: 50%;}#sk-container-id-3 div.sk-parallel-item:only-child::after {width: 0;}#sk-container-id-3 div.sk-dashed-wrapped {border: 1px dashed gray;margin: 0 0.4em 0.5em 0.4em;box-sizing: border-box;padding-bottom: 0.4em;background-color: white;}#sk-container-id-3 div.sk-label label {font-family: monospace;font-weight: bold;display: inline-block;line-height: 1.2em;}#sk-container-id-3 div.sk-label-container {text-align: center;}#sk-container-id-3 div.sk-container {/* jupyter's `normalize.less` sets `[hidden] { display: none; }` but bootstrap.min.css set `[hidden] { display: none !important; }` so we also need the `!important` here to be able to override the default hidden behavior on the sphinx rendered scikit-learn.org. See: https://github.com/scikit-learn/scikit-learn/issues/21755 */display: inline-block !important;position: relative;}#sk-container-id-3 div.sk-text-repr-fallback {display: none;}</style><div id=\"sk-container-id-3\" class=\"sk-top-container\"><div class=\"sk-text-repr-fallback\"><pre>SVC(probability=True, verbose=True)</pre><b>In a Jupyter environment, please rerun this cell to show the HTML representation or trust the notebook. <br />On GitHub, the HTML representation is unable to render, please try loading this page with nbviewer.org.</b></div><div class=\"sk-container\" hidden><div class=\"sk-item\"><div class=\"sk-estimator sk-toggleable\"><input class=\"sk-toggleable__control sk-hidden--visually\" id=\"sk-estimator-id-3\" type=\"checkbox\" checked><label for=\"sk-estimator-id-3\" class=\"sk-toggleable__label sk-toggleable__label-arrow\">SVC</label><div class=\"sk-toggleable__content\"><pre>SVC(probability=True, verbose=True)</pre></div></div></div></div></div>"
      ],
      "text/plain": [
       "SVC(probability=True, verbose=True)"
      ]
     },
     "execution_count": 25,
     "metadata": {},
     "output_type": "execute_result"
    }
   ],
   "source": [
    "# Treina o modelo\n",
    "modelo_dsa_v3.fit(X_treino_scaled, y_treino)"
   ]
  },
  {
   "cell_type": "code",
   "execution_count": 26,
   "metadata": {},
   "outputs": [
    {
     "data": {
      "text/plain": [
       "array([1, 0, 1, 1, 1, 1, 0, 1, 1, 0, 1, 0, 1, 1, 1, 1, 1, 0, 1, 1, 0, 0,\n",
       "       1, 0, 1, 0, 1, 0, 0, 1, 1, 1, 1, 0, 0, 1, 1, 0, 1, 0, 0, 1, 0, 0,\n",
       "       0, 1, 1, 0, 1, 1, 0, 0, 0, 0, 0, 0, 0, 0, 0, 1], dtype=int64)"
      ]
     },
     "execution_count": 26,
     "metadata": {},
     "output_type": "execute_result"
    }
   ],
   "source": [
    "# Obtém a previsão de classe\n",
    "y_pred_v3 = modelo_dsa_v3.predict(X_teste_scaled)\n",
    "y_pred_v3"
   ]
  },
  {
   "cell_type": "code",
   "execution_count": 27,
   "metadata": {},
   "outputs": [
    {
     "data": {
      "text/plain": [
       "array([0.97667326, 0.07431799, 0.93616277, 0.95182499, 0.95672822,\n",
       "       0.95989468, 0.19277721, 0.96950993, 0.88457552, 0.05023584,\n",
       "       0.96600943, 0.270436  , 0.95891901, 0.65651483, 0.94677837,\n",
       "       0.94636238, 0.94112029, 0.20454044, 0.91798889, 0.91226595,\n",
       "       0.04466563, 0.04971247, 0.96924584, 0.19850823, 0.59112444,\n",
       "       0.03879536, 0.93075256, 0.26915997, 0.06173944, 0.68676854,\n",
       "       0.9662023 , 0.9724277 , 0.9519965 , 0.04726536, 0.09681212,\n",
       "       0.9561291 , 0.83517812, 0.14325964, 0.94787984, 0.03679532,\n",
       "       0.06018417, 0.80503327, 0.32953112, 0.04905396, 0.06083334,\n",
       "       0.96755702, 0.97041495, 0.06032899, 0.95680264, 0.92361611,\n",
       "       0.04812172, 0.06994969, 0.02896016, 0.15992285, 0.07799991,\n",
       "       0.36821549, 0.08852867, 0.03526055, 0.04252864, 0.94488003])"
      ]
     },
     "execution_count": 27,
     "metadata": {},
     "output_type": "execute_result"
    }
   ],
   "source": [
    "# Obtém as probabilidades das previsões\n",
    "y_pred_proba_v3 = modelo_dsa_v3.predict_proba(X_teste_scaled)[:, 1]\n",
    "y_pred_proba_v3"
   ]
  },
  {
   "cell_type": "code",
   "execution_count": 28,
   "metadata": {},
   "outputs": [
    {
     "name": "stdout",
     "output_type": "stream",
     "text": [
      "\n",
      "Acurácia: 0.9166666666666666\n",
      "\n",
      "AUC: 0.9633333333333334\n",
      "\n",
      "Relatório de Classificação:\n",
      "               precision    recall  f1-score   support\n",
      "\n",
      "           0       0.93      0.90      0.92        30\n",
      "           1       0.90      0.93      0.92        30\n",
      "\n",
      "    accuracy                           0.92        60\n",
      "   macro avg       0.92      0.92      0.92        60\n",
      "weighted avg       0.92      0.92      0.92        60\n",
      "\n"
     ]
    }
   ],
   "source": [
    "# Calcula a acurácia\n",
    "acc_v3 = accuracy_score(y_teste, y_pred_v3)\n",
    "print(f\"\\nAcurácia: {acc_v3}\")\n",
    "\n",
    "# Calcula o AUC\n",
    "auc_v3 = roc_auc_score(y_teste, y_pred_proba_v3)\n",
    "print(f\"\\nAUC: {auc_v3}\")\n",
    "\n",
    "# Gera o relatório de classificação\n",
    "class_report_v3 = classification_report(y_teste, y_pred_v3)\n",
    "print(\"\\nRelatório de Classificação:\\n\", class_report_v3)"
   ]
  },
  {
   "cell_type": "markdown",
   "metadata": {},
   "source": [
    "Vamos escolher o modelo com maior AUC. Aqui estão algumas razões para optar por um modelo com maior AUC:\n",
    "\n",
    "**Medida de Desempenho Abrangente**: A AUC-ROC é uma medida que considera todos os limiares de classificação possíveis, fornecendo uma visão geral do desempenho do modelo em diferentes níveis de sensibilidade e especificidade. Um modelo com uma AUC mais alta geralmente indica que tem uma melhor capacidade de distinguir entre as classes positivas e negativas em vários limiares.\n",
    "\n",
    "**Robustez a Classes Desbalanceadas**: Em muitos problemas reais, o número de observações em uma classe é muito maior do que o outro, o que pode levar a um modelo tendencioso. A AUC-ROC é menos afetada pelo desbalanceamento de classes do que outras métricas, como a precisão, porque ela avalia o desempenho do modelo em todos os limiares de classificação, não apenas na decisão de corte padrão.\n",
    "\n",
    "**Equilíbrio entre Sensibilidade e Especificidade**: A escolha de um modelo com a maior AUC implica que o modelo não apenas identifica corretamente os verdadeiros positivos (sensibilidade) mas também exclui corretamente os verdadeiros negativos (especificidade). Isso é fundamental em muitas aplicações práticas, como no diagnóstico médico, onde tanto os falsos negativos quanto os falsos positivos podem ter consequências graves.\n",
    "\n",
    "**Comparação de Modelos**: A AUC oferece uma única métrica que pode ser usada para comparar a performance de diferentes modelos em um problema de classificação. Isso simplifica a escolha entre modelos, já que uma AUC mais alta indica, de maneira geral, um modelo que desempenha melhor a tarefa de classificar as observações corretamente.\n",
    "\n",
    "**Independência de Decisão de Corte**: Diferentemente de métricas que dependem de um ponto de corte específico (como precisão, recall e F1-Score), a AUC considera a performance do modelo em todos os possíveis pontos de corte. Isso significa que a AUC reflete a qualidade do modelo em termos de sua capacidade de ranquear previsões corretamente, independentemente de como o limiar de decisão é posteriormente escolhido.\n",
    "\n",
    "**Previsão de Probabilidades**: A curva ROC e, consequentemente, a AUC são particularmente úteis quando estamos interessados em prever probabilidades de classe em vez de classificações binárias. Um modelo que produz probabilidades calibradas e discriminativas entre as classes terá uma AUC mais alta."
   ]
  },
  {
   "cell_type": "code",
   "execution_count": 29,
   "metadata": {},
   "outputs": [],
   "source": [
    "# Salva o modelo em disco\n",
    "pickle.dump(modelo_dsa_v1, open('modelo_dsa_final.pkl', 'wb'))"
   ]
  },
  {
   "cell_type": "code",
   "execution_count": 30,
   "metadata": {},
   "outputs": [],
   "source": [
    "# Salva o padronizador\n",
    "pickle.dump(dsa_scaler, open('scaler_final.pkl', 'wb'))"
   ]
  },
  {
   "cell_type": "markdown",
   "metadata": {},
   "source": [
    "**Crie sua conta na AWS para acompanhar as aulas do deploy do modelo com aplicação web na nuvem**."
   ]
  },
  {
   "cell_type": "code",
   "execution_count": 31,
   "metadata": {},
   "outputs": [
    {
     "name": "stdout",
     "output_type": "stream",
     "text": [
      "Author: Data Science Academy\n",
      "\n"
     ]
    }
   ],
   "source": [
    "%watermark -a \"Data Science Academy\""
   ]
  },
  {
   "cell_type": "code",
   "execution_count": 32,
   "metadata": {},
   "outputs": [],
   "source": [
    "#%watermark -v -m"
   ]
  },
  {
   "cell_type": "code",
   "execution_count": 33,
   "metadata": {},
   "outputs": [],
   "source": [
    "#%watermark --iversions"
   ]
  },
  {
   "cell_type": "markdown",
   "metadata": {},
   "source": [
    "# Fim"
   ]
  }
 ],
 "metadata": {
  "kernelspec": {
   "display_name": "Python 3 (ipykernel)",
   "language": "python",
   "name": "python3"
  },
  "language_info": {
   "codemirror_mode": {
    "name": "ipython",
    "version": 3
   },
   "file_extension": ".py",
   "mimetype": "text/x-python",
   "name": "python",
   "nbconvert_exporter": "python",
   "pygments_lexer": "ipython3",
   "version": "3.11.5"
  },
  "toc": {
   "base_numbering": 1,
   "nav_menu": {},
   "number_sections": true,
   "sideBar": true,
   "skip_h1_title": false,
   "title_cell": "Table of Contents",
   "title_sidebar": "Contents",
   "toc_cell": false,
   "toc_position": {
    "height": "calc(100% - 180px)",
    "left": "10px",
    "top": "150px",
    "width": "320.263px"
   },
   "toc_section_display": true,
   "toc_window_display": true
  }
 },
 "nbformat": 4,
 "nbformat_minor": 4
}
